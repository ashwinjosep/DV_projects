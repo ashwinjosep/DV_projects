{
 "cells": [
  {
   "cell_type": "code",
   "execution_count": 32,
   "metadata": {},
   "outputs": [],
   "source": [
    "import pandas as pd"
   ]
  },
  {
   "cell_type": "code",
   "execution_count": 33,
   "metadata": {},
   "outputs": [],
   "source": [
    "df = pd.read_csv(r\"/Users/satrajitmaitra/DV-projects/data/phoenix_restaurants.csv\")"
   ]
  },
  {
   "cell_type": "code",
   "execution_count": 34,
   "metadata": {},
   "outputs": [],
   "source": [
    "df_mexican = df[df.categories.str.contains(\"Mexican\")]\n",
    "df_italian = df[df.categories.str.contains(\"Italian\")]\n",
    "df_pizza = df[df.categories.str.contains(\"Pizza\")]\n",
    "df_burgers = df[df.categories.str.contains(\"Burgers\")]\n",
    "df_coffeetea = df[df.categories.str.contains(\"Coffee & Tea\")]\n",
    "df_salads = df[df.categories.str.contains(\"Salad\")]\n"
   ]
  },
  {
   "cell_type": "code",
   "execution_count": 35,
   "metadata": {},
   "outputs": [],
   "source": [
    "df_mexican = df_mexican[(df_mexican.stars >= 4.0) & (df_mexican.review_count >= 900)]"
   ]
  },
  {
   "cell_type": "code",
   "execution_count": 36,
   "metadata": {},
   "outputs": [],
   "source": [
    "df_mexican.to_csv(\"/Users/satrajitmaitra/DV-projects/data/top_10_mexican_restaurants.csv\")"
   ]
  },
  {
   "cell_type": "code",
   "execution_count": 45,
   "metadata": {},
   "outputs": [],
   "source": [
    "df_italian = df_italian[(df_italian.stars >= 4.0) & (df_italian.review_count >= 850)]"
   ]
  },
  {
   "cell_type": "code",
   "execution_count": 47,
   "metadata": {},
   "outputs": [],
   "source": [
    "df_italian.to_csv(\"/Users/satrajitmaitra/DV-projects/data/top_10_italian_restaurants.csv\")"
   ]
  },
  {
   "cell_type": "code",
   "execution_count": 59,
   "metadata": {},
   "outputs": [],
   "source": [
    "df_pizza = df_pizza[(df_pizza.stars >= 4.0) & (df_pizza.review_count >= 804)]"
   ]
  },
  {
   "cell_type": "code",
   "execution_count": 60,
   "metadata": {},
   "outputs": [],
   "source": [
    "df_pizza.to_csv(\"/Users/satrajitmaitra/DV-projects/data/top_10_pizza_restaurants.csv\")"
   ]
  },
  {
   "cell_type": "code",
   "execution_count": 71,
   "metadata": {},
   "outputs": [],
   "source": [
    "df_burgers = df_burgers[(df_burgers.stars >= 4.0) & (df_burgers.review_count >= 898)]"
   ]
  },
  {
   "cell_type": "code",
   "execution_count": 72,
   "metadata": {},
   "outputs": [],
   "source": [
    "df_burgers.to_csv(\"/Users/satrajitmaitra/DV-projects/data/top_10_burger_restaurants.csv\")"
   ]
  },
  {
   "cell_type": "code",
   "execution_count": 81,
   "metadata": {},
   "outputs": [],
   "source": [
    "df_coffeetea = df_coffeetea[(df_coffeetea.stars >= 4.0) & (df_coffeetea.review_count >= 820)]"
   ]
  },
  {
   "cell_type": "code",
   "execution_count": 82,
   "metadata": {},
   "outputs": [],
   "source": [
    "df_coffeetea.to_csv(\"/Users/satrajitmaitra/DV-projects/data/top_10_coffeetea_restaurants.csv\")"
   ]
  },
  {
   "cell_type": "code",
   "execution_count": 86,
   "metadata": {},
   "outputs": [],
   "source": [
    "df_salads = df_salads[(df_salads.stars >= 4.0) & (df_salads.review_count >= 850)]"
   ]
  },
  {
   "cell_type": "code",
   "execution_count": 87,
   "metadata": {},
   "outputs": [],
   "source": [
    "df_salads.to_csv(\"/Users/satrajitmaitra/DV-projects/data/top_10_salad_restaurants.csv\")"
   ]
  },
  {
   "cell_type": "code",
   "execution_count": null,
   "metadata": {},
   "outputs": [],
   "source": []
  }
 ],
 "metadata": {
  "kernelspec": {
   "display_name": "Python 2",
   "language": "python",
   "name": "python2"
  },
  "language_info": {
   "codemirror_mode": {
    "name": "ipython",
    "version": 2
   },
   "file_extension": ".py",
   "mimetype": "text/x-python",
   "name": "python",
   "nbconvert_exporter": "python",
   "pygments_lexer": "ipython2",
   "version": "2.7.15"
  }
 },
 "nbformat": 4,
 "nbformat_minor": 2
}
