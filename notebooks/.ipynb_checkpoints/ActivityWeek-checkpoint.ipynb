{
 "cells": [
  {
   "cell_type": "code",
   "execution_count": 1,
   "metadata": {},
   "outputs": [],
   "source": [
    "import pandas as pd"
   ]
  },
  {
   "cell_type": "code",
   "execution_count": 6,
   "metadata": {},
   "outputs": [],
   "source": [
    "df = pd.read_csv(r'/Users/satrajitmaitra/DV-projects/data/phoenix_restaurants.csv')"
   ]
  },
  {
   "cell_type": "code",
   "execution_count": 11,
   "metadata": {},
   "outputs": [],
   "source": [
    "checkins = []\n",
    "for index, row in df.iterrows():\n",
    "    checkins.append(row['date'])"
   ]
  },
  {
   "cell_type": "code",
   "execution_count": 19,
   "metadata": {},
   "outputs": [],
   "source": [
    "checkin0 = checkins[0].split(', ')"
   ]
  },
  {
   "cell_type": "code",
   "execution_count": 21,
   "metadata": {},
   "outputs": [],
   "source": [
    "checkin0 = [ck.split(' ')[0] for ck in checkin0]"
   ]
  },
  {
   "cell_type": "code",
   "execution_count": 25,
   "metadata": {},
   "outputs": [],
   "source": [
    "from datetime import date\n",
    "days0 = []\n",
    "for dt in checkin0:\n",
    "    days0.append(date(int(dt.split('-')[0]), int(dt.split('-')[1]), int(dt.split('-')[2])).weekday())"
   ]
  },
  {
   "cell_type": "code",
   "execution_count": 30,
   "metadata": {},
   "outputs": [],
   "source": [
    "for i in range(len(days0)):\n",
    "    if days0[i] == 0:\n",
    "        days0[i] = 'Monday'\n",
    "    elif days0[i] == 1:\n",
    "        days0[i] = 'Tuesday'\n",
    "    elif days0[i] == 2:\n",
    "        days0[i] = 'Wednesday'\n",
    "    elif days0[i] == 2:\n",
    "        days0[i] = 'Thursday'\n",
    "    elif days0[i] == 4:\n",
    "        days0[i] = 'Friday'\n",
    "    elif days0[i] == 5:\n",
    "        days0[i] = 'Saturday'\n",
    "    else:\n",
    "        days0[i] = 'Sunday'"
   ]
  },
  {
   "cell_type": "code",
   "execution_count": 31,
   "metadata": {},
   "outputs": [
    {
     "data": {
      "text/plain": [
       "[1,\n",
       " 0,\n",
       " 0,\n",
       " 4,\n",
       " 4,\n",
       " 1,\n",
       " 2,\n",
       " 2,\n",
       " 5,\n",
       " 5,\n",
       " 4,\n",
       " 2,\n",
       " 4,\n",
       " 1,\n",
       " 6,\n",
       " 5,\n",
       " 0,\n",
       " 2,\n",
       " 5,\n",
       " 2,\n",
       " 3,\n",
       " 6,\n",
       " 2,\n",
       " 6,\n",
       " 6,\n",
       " 3,\n",
       " 2,\n",
       " 2,\n",
       " 3,\n",
       " 1,\n",
       " 2,\n",
       " 2,\n",
       " 4,\n",
       " 1,\n",
       " 0,\n",
       " 1,\n",
       " 3,\n",
       " 1,\n",
       " 1,\n",
       " 1,\n",
       " 6,\n",
       " 4,\n",
       " 4,\n",
       " 4,\n",
       " 3,\n",
       " 4,\n",
       " 3,\n",
       " 3,\n",
       " 2,\n",
       " 1,\n",
       " 2,\n",
       " 3,\n",
       " 5,\n",
       " 3,\n",
       " 6,\n",
       " 4,\n",
       " 5,\n",
       " 5,\n",
       " 0,\n",
       " 5,\n",
       " 0,\n",
       " 6,\n",
       " 6,\n",
       " 0,\n",
       " 5,\n",
       " 2,\n",
       " 1,\n",
       " 0,\n",
       " 0,\n",
       " 3,\n",
       " 4,\n",
       " 4,\n",
       " 3,\n",
       " 0,\n",
       " 1,\n",
       " 3,\n",
       " 4,\n",
       " 4,\n",
       " 2,\n",
       " 2,\n",
       " 4,\n",
       " 5,\n",
       " 0,\n",
       " 5,\n",
       " 4,\n",
       " 5,\n",
       " 2,\n",
       " 0,\n",
       " 2,\n",
       " 2]"
      ]
     },
     "execution_count": 31,
     "metadata": {},
     "output_type": "execute_result"
    }
   ],
   "source": [
    "days0"
   ]
  },
  {
   "cell_type": "code",
   "execution_count": null,
   "metadata": {},
   "outputs": [],
   "source": []
  }
 ],
 "metadata": {
  "kernelspec": {
   "display_name": "Python 2",
   "language": "python",
   "name": "python2"
  },
  "language_info": {
   "codemirror_mode": {
    "name": "ipython",
    "version": 2
   },
   "file_extension": ".py",
   "mimetype": "text/x-python",
   "name": "python",
   "nbconvert_exporter": "python",
   "pygments_lexer": "ipython2",
   "version": "2.7.15"
  }
 },
 "nbformat": 4,
 "nbformat_minor": 2
}
